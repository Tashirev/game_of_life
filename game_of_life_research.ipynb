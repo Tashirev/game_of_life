{
 "cells": [
  {
   "cell_type": "code",
   "execution_count": 33,
   "id": "df924ce7",
   "metadata": {},
   "outputs": [],
   "source": [
    "import random\n",
    "import numpy as np\n",
    "import seaborn as sns\n",
    "import time\n",
    "import matplotlib.pyplot as plt\n",
    "from matplotlib.animation import FuncAnimation\n",
    "import matplotlib.animation as animation"
   ]
  },
  {
   "cell_type": "markdown",
   "id": "b8f0c65f",
   "metadata": {},
   "source": [
    "### Содание класса пространства мира (клетки)"
   ]
  },
  {
   "cell_type": "code",
   "execution_count": 2,
   "id": "e3de61bd",
   "metadata": {},
   "outputs": [],
   "source": [
    "class Cell:\n",
    "    '''\n",
    "    Класс создаётся с атрибутами:\n",
    "        position - позиция клетки в мире\n",
    "        life_status - статус жизни в клекте\n",
    "        neighbours - число соседей\n",
    "    '''\n",
    "    \n",
    "    def __init__(self, position: list, life_status: bool) -> None:\n",
    "        self.position = position\n",
    "        self.life_status = life_status\n",
    "        self.neighbours = None\n",
    "        \n",
    "    def __repr__(self) -> str:\n",
    "        return f'cell, position: {self.position}, life: {self.life_status}, neighbours: {self.neighbours}'\n",
    "        \n",
    "    \n",
    "    def born(self) -> None:\n",
    "        '''метод зарождения жизни'''\n",
    "        self.life_status = True\n",
    "    \n",
    "    \n",
    "    def die(self) -> None:\n",
    "        '''метод смерти'''\n",
    "        self.life_status = False\n",
    "    \n",
    "    "
   ]
  },
  {
   "cell_type": "markdown",
   "id": "2b45cd82",
   "metadata": {},
   "source": [
    "### Создание класса мира"
   ]
  },
  {
   "cell_type": "code",
   "execution_count": 3,
   "id": "28cc9c20",
   "metadata": {},
   "outputs": [],
   "source": [
    "class Space:\n",
    "    '''\n",
    "    Класс создаётся с атрибутами:\n",
    "        size - размер пространста, по умолчания [10,10]\n",
    "        loop - статус зацикленности пространства, по умолчанию False\n",
    "    '''\n",
    "    \n",
    "    def __init__(self, size: list=[10,10], loop: bool=False) -> None:\n",
    "        \n",
    "        self.size = size\n",
    "        self.loop = loop\n",
    "        self.epoch = 0\n",
    "        \n",
    "\n",
    "    def __repr__(self) -> str:\n",
    "        \n",
    "        return f'space, size: {self.size}, loop: {self.loop}, epoch: {self.epoch}'\n",
    "    \n",
    "    \n",
    "    \n",
    "    def random_first_generation(self, weights:list=[10,1]) -> None:\n",
    "        '''случайная генерация первого поколения'''\n",
    "        \n",
    "        cell_list = []\n",
    "        for i in range(self.size[0]):\n",
    "            cell_j_list = []\n",
    "            for j in range(self.size[1]):\n",
    "                cell_j_list.append(Cell([i,j], random.choices(population=[False, True], weights=weights)[0]))\n",
    "            cell_list.append(cell_j_list)\n",
    "        self.cells = np.array(cell_list)\n",
    "    \n",
    "    \n",
    "    \n",
    "    def cells_life_status(self) -> np.array:\n",
    "        '''возврат состояния пространста в виде np.array'''\n",
    "        \n",
    "        cells_life_status_list = []\n",
    "        for i in range(self.size[0]):\n",
    "            cells_life_status_j_list = []\n",
    "            for j in range(self.size[1]):\n",
    "                cells_life_status_j_list.append(self.cells[i][j].life_status)\n",
    "            cells_life_status_list.append(cells_life_status_j_list)\n",
    "\n",
    "        return np.array(cells_life_status_list)\n",
    "    \n",
    "    \n",
    "    \n",
    "    def recalculation_neighbours(self) -> None:\n",
    "        '''расчёт числа соседей для всех клеток'''\n",
    "        \n",
    "        # проход по всем клеткам, кроме последней строки и последнего столбца\n",
    "        for i in range(self.size[0]-1):\n",
    "            for j in range(self.size[1]-1):\n",
    "                self.cells[i][j].neighbours = (\n",
    "                                  self.cells[i-1][j-1].life_status +\n",
    "                                  self.cells[i-1][j].life_status +\n",
    "                                  self.cells[i-1][j+1].life_status +\n",
    "                                  self.cells[i][j-1].life_status +\n",
    "                                  self.cells[i][j+1].life_status +\n",
    "                                  self.cells[i+1][j-1].life_status +\n",
    "                                  self.cells[i+1][j].life_status +\n",
    "                                  self.cells[i+1][j+1].life_status\n",
    "                                 )\n",
    "\n",
    "        # проход по последнему столбцу, кроме последней строки\n",
    "        j = self.size[1]-1\n",
    "        for i in range(self.size[0]-1):\n",
    "            self.cells[i][j].neighbours = (\n",
    "                              self.cells[i-1][j-1].life_status +\n",
    "                              self.cells[i-1][j].life_status +\n",
    "                              self.cells[i-1][0].life_status +\n",
    "                              self.cells[i][j-1].life_status +\n",
    "                              self.cells[i][0].life_status +\n",
    "                              self.cells[i+1][j-1].life_status +\n",
    "                              self.cells[i+1][j].life_status +\n",
    "                              self.cells[i+1][0].life_status\n",
    "                             )\n",
    "\n",
    "        # проход по последней строке, кроме последнего столбца\n",
    "        i = self.size[0]-1\n",
    "        for j in range(self.size[1]-1):\n",
    "            self.cells[i][j].neighbours = (\n",
    "                              self.cells[i-1][j-1].life_status +\n",
    "                              self.cells[i-1][j].life_status +\n",
    "                              self.cells[i-1][j+1].life_status +\n",
    "                              self.cells[i][j-1].life_status +\n",
    "                              self.cells[i][j+1].life_status +\n",
    "                              self.cells[0][j-1].life_status +\n",
    "                              self.cells[0][j].life_status +\n",
    "                              self.cells[0][j+1].life_status\n",
    "                             )\n",
    "\n",
    "        # последняя клетка\n",
    "        i = self.size[0]-1\n",
    "        j = self.size[1]-1\n",
    "        self.cells[i][j].neighbours = (\n",
    "                          self.cells[i-1][j-1].life_status +\n",
    "                          self.cells[i-1][j].life_status +\n",
    "                          self.cells[i-1][0].life_status +\n",
    "                          self.cells[i][j-1].life_status +\n",
    "                          self.cells[i][0].life_status +\n",
    "                          self.cells[0][j-1].life_status +\n",
    "                          self.cells[0][j].life_status +\n",
    "                          self.cells[0][0].life_status\n",
    "                         )\n",
    "\n",
    "    \n",
    "    def new_epoch(self) -> None:\n",
    "        '''пересчёт состояния новой эпохи'''\n",
    "        \n",
    "        # проход по всем клеткам\n",
    "        for i in range(self.size[0]):\n",
    "            for j in range(self.size[1]):\n",
    "                \n",
    "                # если клетка была мёртвой, зародить жизнь при 3 живых соседях\n",
    "                if not(self.cells[i][j].life_status) and self.cells[i][j].neighbours == 3:\n",
    "                    self.cells[i][j].born()\n",
    "                # если клетка была живой, умертвить жизнь если нет 2-3 живых соседей\n",
    "                elif self.cells[i][j].life_status and self.cells[i][j].neighbours not in [2,3]:\n",
    "                    self.cells[i][j].die()\n",
    "        \n",
    "        self.epoch += 1"
   ]
  },
  {
   "cell_type": "markdown",
   "id": "620c4df4",
   "metadata": {},
   "source": [
    "### Запуск эксперимента жизни"
   ]
  },
  {
   "cell_type": "code",
   "execution_count": 58,
   "id": "43c36ecc",
   "metadata": {},
   "outputs": [
    {
     "data": {
      "text/plain": [
       "space, size: [30, 30], loop: False, epoch: 0"
      ]
     },
     "execution_count": 58,
     "metadata": {},
     "output_type": "execute_result"
    }
   ],
   "source": [
    "space = Space([30,30], False)\n",
    "space.random_first_generation([5,1])\n",
    "space"
   ]
  },
  {
   "cell_type": "raw",
   "id": "ed4e3dbf",
   "metadata": {
    "scrolled": false
   },
   "source": [
    "ax = sns.heatmap(space.cells_life_status())\n",
    "plt.show()\n",
    "while True:\n",
    "    space.recalculation_neighbours()\n",
    "    space.new_epoch()\n",
    "    print(f'Epoch: {space.epoch}')\n",
    "    ax = sns.heatmap(space.cells_life_status())\n",
    "    plt.show()\n",
    "    time.sleep(0)"
   ]
  },
  {
   "cell_type": "code",
   "execution_count": 72,
   "id": "e9e9d91d",
   "metadata": {},
   "outputs": [
    {
     "data": {
      "image/png": "[encoded data removed]",
      "text/plain": [
       "<Figure size 640x480 with 1 Axes>"
      ]
     },
     "metadata": {},
     "output_type": "display_data"
    }
   ],
   "source": [
    "fig, ax = plt.subplots()\n",
    "ims = []\n",
    "plt.ion()\n",
    "for i in range(6):\n",
    "    space.recalculation_neighbours()\n",
    "    space.new_epoch()\n",
    "    plt.clf()\n",
    "    plt.imshow(space.cells_life_status(), animated=True)\n",
    "    plt.draw()\n",
    "    plt.gcf().canvas.flush_events()\n",
    "    time.sleep(0.1)\n",
    "plt.ioff()\n",
    "plt.show()"
   ]
  },
  {
   "cell_type": "code",
   "execution_count": 68,
   "id": "029c78f7",
   "metadata": {},
   "outputs": [],
   "source": [
    "ims[0][0]\n",
    "plt.show()"
   ]
  },
  {
   "cell_type": "code",
   "execution_count": 62,
   "id": "392bc7c7",
   "metadata": {},
   "outputs": [
    {
     "data": {
      "image/png": "[encoded data removed]",
      "text/plain": [
       "<Figure size 640x480 with 1 Axes>"
      ]
     },
     "metadata": {},
     "output_type": "display_data"
    }
   ],
   "source": [
    "fig, ax = plt.subplots()\n",
    "ims = []\n",
    "\n",
    "for i in range(60):\n",
    "    space.recalculation_neighbours()\n",
    "    space.new_epoch()\n",
    "    im = ax.imshow(space.cells_life_status(), animated=True)\n",
    "    ims.append([im])\n",
    "    \n",
    "ani = animation.ArtistAnimation(fig, ims, interval=500, blit=True, repeat_delay=1000)\n",
    "#ani.save(\"movie.mp4\")\n",
    "plt.show()"
   ]
  },
  {
   "cell_type": "code",
   "execution_count": 60,
   "id": "dd385b34",
   "metadata": {},
   "outputs": [
    {
     "data": {
      "image/png": "[encoded data removed]",
      "text/plain": [
       "<Figure size 640x480 with 1 Axes>"
      ]
     },
     "metadata": {},
     "output_type": "display_data"
    }
   ],
   "source": [
    "fig, ax = plt.subplots()\n",
    "\n",
    "\n",
    "def f(x, y):\n",
    "    return np.sin(x) + np.cos(y)\n",
    "\n",
    "x = np.linspace(0, 2 * np.pi, 120)\n",
    "y = np.linspace(0, 2 * np.pi, 100).reshape(-1, 1)\n",
    "\n",
    "# ims is a list of lists, each row is a list of artists to draw in the\n",
    "# current frame; here we are just animating one artist, the image, in\n",
    "# each frame\n",
    "ims = []\n",
    "for i in range(60):\n",
    "    x += np.pi / 15\n",
    "    y += np.pi / 30\n",
    "    im = ax.imshow(f(x, y), animated=True)\n",
    "    if i == 0:\n",
    "        ax.imshow(f(x, y))  # show an initial one first\n",
    "    ims.append([im])\n",
    "\n",
    "ani = animation.ArtistAnimation(fig, ims, interval=50, blit=True,\n",
    "                                repeat_delay=1000)\n",
    "plt.show()"
   ]
  },
  {
   "cell_type": "code",
   "execution_count": null,
   "id": "0575b9a5",
   "metadata": {},
   "outputs": [],
   "source": []
  }
 ],
 "metadata": {
  "kernelspec": {
   "display_name": "Python 3 (ipykernel)",
   "language": "python",
   "name": "python3"
  },
  "language_info": {
   "codemirror_mode": {
    "name": "ipython",
    "version": 3
   },
   "file_extension": ".py",
   "mimetype": "text/x-python",
   "name": "python",
   "nbconvert_exporter": "python",
   "pygments_lexer": "ipython3",
   "version": "3.10.4"
  },
  "toc": {
   "base_numbering": 1,
   "nav_menu": {},
   "number_sections": true,
   "sideBar": true,
   "skip_h1_title": true,
   "title_cell": "Table of Contents",
   "title_sidebar": "Contents",
   "toc_cell": false,
   "toc_position": {
    "height": "calc(100% - 180px)",
    "left": "10px",
    "top": "150px",
    "width": "384px"
   },
   "toc_section_display": true,
   "toc_window_display": true
  }
 },
 "nbformat": 4,
 "nbformat_minor": 5
}
